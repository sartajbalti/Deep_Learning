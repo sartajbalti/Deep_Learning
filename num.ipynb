{
 "cells": [
  {
   "cell_type": "code",
   "execution_count": null,
   "metadata": {},
   "outputs": [],
   "source": [
    "import numpy as np "
   ]
  },
  {
   "cell_type": "code",
   "execution_count": null,
   "metadata": {},
   "outputs": [],
   "source": [
    "c = np.array([[1,2],[3,4]], dtype=complex)"
   ]
  },
  {
   "cell_type": "code",
   "execution_count": null,
   "metadata": {},
   "outputs": [],
   "source": [
    "c"
   ]
  },
  {
   "cell_type": "code",
   "execution_count": null,
   "metadata": {},
   "outputs": [],
   "source": [
    "c[0]"
   ]
  },
  {
   "cell_type": "code",
   "execution_count": null,
   "metadata": {},
   "outputs": [],
   "source": [
    "c[0].real"
   ]
  },
  {
   "cell_type": "code",
   "execution_count": null,
   "metadata": {},
   "outputs": [],
   "source": [
    "a = np.arange(24).reshape(1,2,12)"
   ]
  },
  {
   "cell_type": "code",
   "execution_count": null,
   "metadata": {},
   "outputs": [],
   "source": [
    "print(a)"
   ]
  },
  {
   "cell_type": "code",
   "execution_count": null,
   "metadata": {},
   "outputs": [],
   "source": [
    "x = np.array([[1,2],[0,1]])\n",
    "v = np.array([[1,3],[3,4]])"
   ]
  },
  {
   "cell_type": "code",
   "execution_count": null,
   "metadata": {},
   "outputs": [],
   "source": [
    "print(x*v)"
   ]
  },
  {
   "cell_type": "code",
   "execution_count": null,
   "metadata": {},
   "outputs": [],
   "source": [
    "print(x@v)"
   ]
  },
  {
   "cell_type": "code",
   "execution_count": null,
   "metadata": {},
   "outputs": [],
   "source": [
    "a = np.arange(10)**3"
   ]
  },
  {
   "cell_type": "code",
   "execution_count": null,
   "metadata": {},
   "outputs": [],
   "source": [
    "a"
   ]
  },
  {
   "cell_type": "code",
   "execution_count": null,
   "metadata": {},
   "outputs": [],
   "source": [
    "a[1:8:2]= 1000"
   ]
  },
  {
   "cell_type": "code",
   "execution_count": null,
   "metadata": {},
   "outputs": [],
   "source": [
    "a"
   ]
  },
  {
   "cell_type": "code",
   "execution_count": null,
   "metadata": {},
   "outputs": [],
   "source": [
    "a[5:-5]"
   ]
  },
  {
   "cell_type": "code",
   "execution_count": null,
   "metadata": {},
   "outputs": [],
   "source": [
    "a = np.array([[-1,-2],[1,2],[2,4],[-3,2],[2,-2],[4,6]])"
   ]
  },
  {
   "cell_type": "code",
   "execution_count": null,
   "metadata": {},
   "outputs": [],
   "source": [
    "a"
   ]
  },
  {
   "cell_type": "code",
   "execution_count": null,
   "metadata": {},
   "outputs": [],
   "source": [
    "a[0,0]"
   ]
  },
  {
   "cell_type": "code",
   "execution_count": null,
   "metadata": {},
   "outputs": [],
   "source": [
    "a[4,0]"
   ]
  },
  {
   "cell_type": "code",
   "execution_count": null,
   "metadata": {},
   "outputs": [],
   "source": [
    "rays "
   ]
  },
  {
   "cell_type": "code",
   "execution_count": null,
   "metadata": {},
   "outputs": [],
   "source": [
    "def Solution(a):\n",
    "    rays = 0\n",
    "    for i in range(5):\n",
    "\n",
    "        if a[i,0] >= 0 and a[i,1] >= 0:\n",
    "            first_c = rays + 1\n",
    "        if a[i,0] <= 0 and a[i,1] >= 0:\n",
    "            Second_c = rays + 1\n",
    "        if a[i,0] <= 0 and a[i,1] <= 0:\n",
    "            third_c = rays + 1\n",
    "        if a[i,0] >= 0 and a[i,1] <= 0:\n",
    "            fourth_c = rays + 1\n",
    "    rays = first_c + Second_c + third_c + fourth_c\n",
    "    print(rays)\n",
    "\n"
   ]
  },
  {
   "cell_type": "code",
   "execution_count": null,
   "metadata": {},
   "outputs": [],
   "source": [
    "print(a.Solution())\n",
    "\n"
   ]
  },
  {
   "cell_type": "code",
   "execution_count": null,
   "metadata": {},
   "outputs": [],
   "source": [
    "print(statue1)"
   ]
  },
  {
   "cell_type": "code",
   "execution_count": null,
   "metadata": {},
   "outputs": [],
   "source": [
    "statue1[1]"
   ]
  },
  {
   "cell_type": "code",
   "execution_count": null,
   "metadata": {},
   "outputs": [],
   "source": [
    "print(statue2)"
   ]
  },
  {
   "cell_type": "code",
   "execution_count": null,
   "metadata": {},
   "outputs": [],
   "source": [
    "for i,j in range(5):\n",
    "    print(a[i,j])"
   ]
  },
  {
   "cell_type": "code",
   "execution_count": null,
   "metadata": {},
   "outputs": [],
   "source": [
    "name = input(\"Please enter your name: \")\n",
    "age = int(input(\"Please enter your age: \"))\n",
    "year = 2022 - age + 100\n",
    "print(name,\" You will turn 100 years in \", year)\n"
   ]
  },
  {
   "cell_type": "code",
   "execution_count": null,
   "metadata": {},
   "outputs": [],
   "source": [
    "number = int(input(\"Please enter a number: \"))\n",
    "if number % 2  == 0:\n",
    "    print(\"The number you enter is Even\")\n",
    "else:\n",
    "    print(\"The number you enter is Odd\")"
   ]
  },
  {
   "cell_type": "code",
   "execution_count": null,
   "metadata": {},
   "outputs": [],
   "source": [
    "a = [1, 1, 2, 3, 5, 8, 13, 21, 34, 55, 89]\n",
    "for i in a:\n",
    "    if i < 5:\n",
    "        print(i)\n"
   ]
  },
  {
   "cell_type": "code",
   "execution_count": null,
   "metadata": {},
   "outputs": [],
   "source": [
    "a = [1, 1, 2, 3, 5, 8, 13, 21, 34, 55, 89]\n",
    "less5 = []\n",
    "newless5 =[]\n",
    "for x in a:\n",
    "    if x < 5:\n",
    "        less5.append(x)\n",
    "        less5.sort()\n",
    "print(less5)\n",
    "\n",
    "\n"
   ]
  },
  {
   "cell_type": "code",
   "execution_count": null,
   "metadata": {},
   "outputs": [],
   "source": [
    "num = int(input(\"Please enter the number to add in the list\"))\n",
    "for i in a:\n",
    "    if i < num:\n",
    "        newless5.append(i)\n",
    "        newless5.sort()\n",
    "\n",
    "print(newless5)  "
   ]
  },
  {
   "cell_type": "code",
   "execution_count": null,
   "metadata": {},
   "outputs": [],
   "source": [
    "x= list(range(1,100))\n",
    "n = int(input(\"enter the number to find the devisors\"))\n",
    "devisor = []\n",
    "for i in x:\n",
    "    if n % i == 0:\n",
    "        devisor.append(i)\n",
    "print(devisor)\n"
   ]
  },
  {
   "cell_type": "code",
   "execution_count": null,
   "metadata": {},
   "outputs": [],
   "source": [
    "a = [1, 1, 2, 3, 5, 8, 13, 21, 34, 55, 89]\n",
    "b = [1, 2, 3, 4, 5, 6, 7, 8, 9, 10, 11, 12, 13]"
   ]
  },
  {
   "cell_type": "code",
   "execution_count": null,
   "metadata": {},
   "outputs": [],
   "source": [
    "comon = []\n",
    "for i in a:\n",
    "    if i in b :\n",
    "        if i  not in comon:\n",
    "            comon.append(i) \n",
    "print(comon) "
   ]
  },
  {
   "cell_type": "code",
   "execution_count": null,
   "metadata": {},
   "outputs": [],
   "source": []
  },
  {
   "cell_type": "code",
   "execution_count": null,
   "metadata": {},
   "outputs": [],
   "source": []
  },
  {
   "cell_type": "code",
   "execution_count": null,
   "metadata": {},
   "outputs": [],
   "source": []
  },
  {
   "cell_type": "code",
   "execution_count": null,
   "metadata": {},
   "outputs": [],
   "source": [
    "import math"
   ]
  },
  {
   "cell_type": "code",
   "execution_count": null,
   "metadata": {},
   "outputs": [],
   "source": [
    "A = ([-1,-2],[1,2],[2,4],[-3,2],[2,-2])"
   ]
  },
  {
   "cell_type": "code",
   "execution_count": null,
   "metadata": {},
   "outputs": [],
   "source": [
    "def solution(A):\n",
    "    direc = len(A)\n",
    "    same_d = 0\n",
    "    for i in range(direc):\n",
    "        for j in range(i+1,direc):\n",
    "            norm_a = math.sqrt(A[i][0]**2 + A[i][1]**2 )\n",
    "            norm_b = math.sqrt(A[j][0]**2 + A[j][1]**2 )\n",
    "            dot_p = A[i][0] * A[j][0] + A[i][1] * A[j][1]\n",
    "            theta = dot_p/(norm_a * norm_b)\n",
    "            #print(theta)\n",
    "            if math.isclose(theta,1.0):\n",
    "                same_d += 1\n",
    "    \n",
    "    #print(same_d)\n",
    "    return direc - same_d \n"
   ]
  },
  {
   "cell_type": "code",
   "execution_count": null,
   "metadata": {},
   "outputs": [],
   "source": [
    "print(solution(A))"
   ]
  },
  {
   "cell_type": "code",
   "execution_count": null,
   "metadata": {},
   "outputs": [],
   "source": [
    "from sys import maxsize\n",
    "\n",
    "def maxSubArraySum(arr,N):\n",
    "        ##Your code here\n",
    "                ##Your code here\n",
    "    maxc = 0\n",
    "    maxf = -maxsize-1\n",
    "    for i in range(N):\n",
    "        maxc += arr[i]\n",
    "        if(maxc<arr[i]):\n",
    "            maxc = arr[i]\n",
    "        if(maxf<maxc):\n",
    "            maxf = maxc\n",
    "    return maxf\n"
   ]
  },
  {
   "cell_type": "code",
   "execution_count": null,
   "metadata": {},
   "outputs": [],
   "source": [
    "N = 5\n",
    "Arr = [1, 2, 3, -2, 5]"
   ]
  },
  {
   "cell_type": "code",
   "execution_count": null,
   "metadata": {},
   "outputs": [],
   "source": [
    "print(maxSubArraySum(Arr,N))"
   ]
  },
  {
   "cell_type": "code",
   "execution_count": null,
   "metadata": {},
   "outputs": [],
   "source": [
    "print(-maxsize-1)"
   ]
  },
  {
   "cell_type": "code",
   "execution_count": null,
   "metadata": {},
   "outputs": [],
   "source": [
    "stri = str(input(\"please enter a string to check palindrome or not \"))\n",
    "rev = stri[::-1]\n",
    "if stri == rev:\n",
    "    print(\"The string you enter is palindrome\")\n",
    "\n",
    "else:\n",
    "    print(\"The strinf is not palindrome\")\n",
    "print(stri)"
   ]
  },
  {
   "cell_type": "code",
   "execution_count": null,
   "metadata": {},
   "outputs": [],
   "source": [
    "a = [1, 4, 9, 16, 25, 36, 49, 64, 81, 100]"
   ]
  },
  {
   "cell_type": "code",
   "execution_count": null,
   "metadata": {},
   "outputs": [],
   "source": [
    "new = []\n",
    "for i in a :\n",
    "    if i % 2 == 0:\n",
    "        new.append(i)\n",
    "\n",
    "\n",
    "print(new)\n"
   ]
  },
  {
   "cell_type": "code",
   "execution_count": null,
   "metadata": {},
   "outputs": [],
   "source": [
    "# rock paper scisor game \n",
    "a = str(input(\"Player 1 Please select rock, paper or sccisor :\"))\n",
    "b = str(input(\"Player 1 Please select rock, paper or sccisor :\"))\n",
    "while True:\n",
    "    if a == 'rock' and b =='paper':\n",
    "        print(\"Player 2 wins\")\n",
    "        if str(input('Do you want to play another game, yes or no? ')) == 'yes':\n",
    "            continue\n",
    "        else:\n",
    "            break\n",
    "    elif a == 'rock' and b =='sccisor':\n",
    "        print(\"Player 1 wins\")\n",
    "        if str(input('Do you want to play another game, yes or no? ')) == 'yes':\n",
    "            continue\n",
    "        else:\n",
    "            break\n",
    "    elif a == 'sccisor' and b =='paper':\n",
    "        print(\"Player 1 wins\")\n",
    "        if str(input('Do you want to play another game, yes or no? ')) == 'yes':\n",
    "            continue\n",
    "        else:\n",
    "            break\n",
    "    elif a == 'sccisor' and b =='rock':\n",
    "        print(\"Player 2 wins\")\n",
    "        if str(input('Do you want to play another game, yes or no? ')) == 'yes':\n",
    "            continue\n",
    "        else:\n",
    "            break\n",
    "    elif a == 'paper' and b =='sccisor':\n",
    "        print(\"Player 2 wins\")\n",
    "        if str(input('Do you want to play another game, yes or no? ')) == 'yes':\n",
    "            continue\n",
    "        else:\n",
    "            break\n",
    "    elif a == 'paper' and b =='rock':\n",
    "        print(\"Player 1 wins\")\n",
    "        if str(input('Do you want to play another game, yes or no? ')) == 'yes':\n",
    "            continue\n",
    "        else:\n",
    "            break\n",
    "    else:\n",
    "        print(\"the game is draw\")\n",
    "        if str(input('Do you want to play another game, yes or no? ')) == 'yes':\n",
    "            continue\n",
    "        else:\n",
    "            break\n",
    "\n",
    "\n"
   ]
  },
  {
   "cell_type": "code",
   "execution_count": null,
   "metadata": {},
   "outputs": [],
   "source": [
    "import random\n",
    "a = random.randint(1,10)\n",
    "\n",
    "c = 0\n",
    "x = 0\n",
    "while c != a:\n",
    "    c = int(input(\"Please make a guess number range from 0to 9 wether you guess right or worng\"))\n",
    "    x += 1\n",
    "\n",
    "    if c < a:\n",
    "        print(\"The number is low\")\n",
    "    elif c > a :\n",
    "        print(\"The number is high\")\n",
    "    else:\n",
    "        print(\"you get the correct guess and completed the in \" , x , \"tries\")\n",
    "\n",
    "\n",
    "\n"
   ]
  },
  {
   "cell_type": "code",
   "execution_count": null,
   "metadata": {},
   "outputs": [],
   "source": [
    "a = [1, 1, 2, 3, 5, 8, 13, 21, 34, 55, 89]\n",
    "b = [1, 2, 3, 4, 5, 6, 7, 8, 9, 10, 11, 12, 13]"
   ]
  },
  {
   "cell_type": "code",
   "execution_count": null,
   "metadata": {},
   "outputs": [],
   "source": [
    "import random"
   ]
  },
  {
   "cell_type": "code",
   "execution_count": null,
   "metadata": {},
   "outputs": [],
   "source": [
    "a = random.sample(range(100),5)\n",
    "b = random.sample(range(100),5)"
   ]
  },
  {
   "cell_type": "code",
   "execution_count": null,
   "metadata": {},
   "outputs": [],
   "source": [
    "Common_non_duplicates =[]"
   ]
  },
  {
   "cell_type": "code",
   "execution_count": null,
   "metadata": {},
   "outputs": [],
   "source": [
    "for i in a :\n",
    "    duc = [i for i in b if i not in Common_non_duplicates]\n"
   ]
  },
  {
   "cell_type": "code",
   "execution_count": null,
   "metadata": {},
   "outputs": [],
   "source": [
    "print(duc)"
   ]
  },
  {
   "cell_type": "code",
   "execution_count": null,
   "metadata": {},
   "outputs": [],
   "source": [
    "def prime(a):\n",
    "    #a = int(input(\"please enter a number to check wether it is prime number or not : \"))\n",
    "    if a%2 !=0:\n",
    "        print(\"The number you entered is prime number\")\n",
    "\n",
    "    else:\n",
    "        print(\"The number is not prime \")\n",
    "    return (\"you entered\",a)"
   ]
  },
  {
   "cell_type": "code",
   "execution_count": null,
   "metadata": {},
   "outputs": [],
   "source": [
    "print(prime(5))"
   ]
  },
  {
   "cell_type": "code",
   "execution_count": null,
   "metadata": {},
   "outputs": [],
   "source": [
    "import math"
   ]
  },
  {
   "cell_type": "code",
   "execution_count": null,
   "metadata": {},
   "outputs": [],
   "source": [
    "def solution(a):\n",
    "    same = 0\n",
    "    for i in range(len(a)):\n",
    "        for j in range(i+1, len(a)):\n",
    "            mode_a = math.sqrt(a[i][0]**2 + a[i][1]**2)\n",
    "            mode_b = math.sqrt(a[j][0]**2 + a[i][1]**2)\n",
    "            dot = a[i][0]*a[j][0] + a[i][1]*a[i][1]\n",
    "            theta = dot / (mode_a*mode_b)\n",
    "            if math.isclose(theta,1):\n",
    "                same += 1\n",
    "    return len(a)- same\n",
    "\n",
    "            "
   ]
  },
  {
   "cell_type": "code",
   "execution_count": null,
   "metadata": {},
   "outputs": [],
   "source": [
    "A = ([-1,-2],[1,2],[2,4],[-3,2],[2,-2])"
   ]
  },
  {
   "cell_type": "code",
   "execution_count": null,
   "metadata": {},
   "outputs": [],
   "source": [
    "print(solution(A))"
   ]
  },
  {
   "cell_type": "code",
   "execution_count": null,
   "metadata": {},
   "outputs": [],
   "source": [
    "S = int(input())\n",
    "print(\"%d:%d:%d\"%(S/3600,(S%3600)/60,S%60))"
   ]
  },
  {
   "cell_type": "code",
   "execution_count": null,
   "metadata": {},
   "outputs": [],
   "source": [
    "a = range(2,0)"
   ]
  },
  {
   "cell_type": "code",
   "execution_count": null,
   "metadata": {},
   "outputs": [],
   "source": [
    "a= list(map(int,input().split()))\n",
    "\n",
    "for i in range(3,0,-1):\n",
    "    k = 0\n",
    "    while k < i :\n",
    "        if a[k] > a[k+1]:\n",
    "            a[k], a[k+1] = a[k+1],a[k]\n",
    "        k +=1\n",
    "        \n",
    "print(a[0],a[1],a[2],a[3])"
   ]
  },
  {
   "cell_type": "code",
   "execution_count": null,
   "metadata": {},
   "outputs": [],
   "source": [
    "a = [5, 10, 15, 20, 25]\n"
   ]
  },
  {
   "cell_type": "code",
   "execution_count": null,
   "metadata": {},
   "outputs": [],
   "source": [
    "def li(a):\n",
    "    return [a[0],a[len(a)-1]]\n",
    "\n",
    "\n"
   ]
  },
  {
   "cell_type": "code",
   "execution_count": null,
   "metadata": {},
   "outputs": [],
   "source": [
    "print(li(a))"
   ]
  },
  {
   "cell_type": "code",
   "execution_count": null,
   "metadata": {},
   "outputs": [],
   "source": [
    "W,H,x,y,r= map(int,input().split())\n",
    "\n",
    "if x >= r and x <= W-r and y >= r and y <= H-r:\n",
    "    print(\"Yes\")\n",
    "else:\n",
    "    print( \"No \")  "
   ]
  },
  {
   "cell_type": "code",
   "execution_count": null,
   "metadata": {},
   "outputs": [],
   "source": [
    "l = list(map(int,input().split()))\n",
    "for i in range(len(l)):\n",
    "    if l[i] != 0:\n",
    "        print(\"Case \",i+1,\":\",l[i])\n"
   ]
  },
  {
   "cell_type": "code",
   "execution_count": null,
   "metadata": {},
   "outputs": [],
   "source": [
    "case = 1\n",
    "\n",
    "while True:\n",
    "    lis =int(input())\n",
    "    if lis == 0:\n",
    "        break\n",
    "    else:\n",
    "        print(\"Case %d: %d\" % (case,lis))\n",
    "        case += 1"
   ]
  },
  {
   "cell_type": "code",
   "execution_count": null,
   "metadata": {},
   "outputs": [],
   "source": [
    "while True:\n",
    "    a,b = map(int,input().split())\n",
    "    if a == 0 and b == 0:\n",
    "        break\n",
    "    if a>b:\n",
    "        a,b = b,a\n",
    "    print(\"%d %d\"%(a,b))"
   ]
  },
  {
   "cell_type": "code",
   "execution_count": 143,
   "metadata": {},
   "outputs": [
    {
     "name": "stdout",
     "output_type": "stream",
     "text": [
      "3\n"
     ]
    }
   ],
   "source": [
    "a,b,c = map(int,input().split())\n",
    "count = 0 \n",
    "\n",
    "for i in range(a,b):\n",
    "    if c % i == 0:\n",
    "        count += 1\n",
    "    if a>b :\n",
    "        break\n",
    "print(count)"
   ]
  },
  {
   "cell_type": "code",
   "execution_count": null,
   "metadata": {},
   "outputs": [],
   "source": [
    "a,b,c = map(int,input().split())\n",
    "ans = 0 \n",
    "n = a \n",
    "while True:\n",
    "    if c%n == 0:\n",
    "        ans+=1\n",
    "    n+=1\n",
    "    if n>b:\n",
    "        break\n",
    "print(ans)"
   ]
  },
  {
   "cell_type": "code",
   "execution_count": 146,
   "metadata": {},
   "outputs": [],
   "source": [
    "def solution(A, K):\n",
    "    n = len(A)\n",
    "    best = 1\n",
    "    count = 0\n",
    "    for i in range(n - K - 1):\n",
    "        if (A[i] == A[i + 1]):\n",
    "            count = count + 1\n",
    "        else:\n",
    "            count = 0\n",
    "        best = max(best, count)\n",
    "    result = best + 1 + K\n",
    "\n",
    "    return result"
   ]
  },
  {
   "cell_type": "code",
   "execution_count": 147,
   "metadata": {},
   "outputs": [
    {
     "name": "stdout",
     "output_type": "stream",
     "text": [
      "5\n"
     ]
    }
   ],
   "source": [
    "A = [1, 1, 3, 3, 3, 4, 5, 5, 5, 5]\n",
    "K = 2\n",
    "print(solution(A,K))"
   ]
  },
  {
   "cell_type": "code",
   "execution_count": 7,
   "metadata": {},
   "outputs": [
    {
     "name": "stdout",
     "output_type": "stream",
     "text": [
      "1 1 1.5000000000\n"
     ]
    }
   ],
   "source": [
    "a, b = map(int, input().split())\n",
    "d = int(a/b)\n",
    "r = int(a%b)\n",
    "f = a/b\n",
    "print(\"%d %d %.10f\"%(d,r,f))"
   ]
  },
  {
   "cell_type": "code",
   "execution_count": 4,
   "metadata": {},
   "outputs": [
    {
     "name": "stdout",
     "output_type": "stream",
     "text": [
      "1 1 1\n"
     ]
    }
   ],
   "source": []
  },
  {
   "cell_type": "code",
   "execution_count": 8,
   "metadata": {},
   "outputs": [],
   "source": [
    "import math"
   ]
  },
  {
   "cell_type": "code",
   "execution_count": 11,
   "metadata": {},
   "outputs": [
    {
     "name": "stdout",
     "output_type": "stream",
     "text": [
      "28.2743338823 18.8495559215\n"
     ]
    }
   ],
   "source": [
    "a = float(input())\n",
    "print(\"%.10f %.10f\"%(math.pi*a**2,2*math.pi*a))"
   ]
  },
  {
   "cell_type": "code",
   "execution_count": 10,
   "metadata": {},
   "outputs": [
    {
     "name": "stdout",
     "output_type": "stream",
     "text": [
      "3\n"
     ]
    }
   ],
   "source": [
    "\n",
    "while True:\n",
    "    x = input().split()\n",
    "    a = int(x[0])\n",
    "    op = x[1]\n",
    "    b = int(x[2])\n",
    "    if op == \"+\" :\n",
    "        print(\"%d\"%(a+b))\n",
    "    if op == \"-\":\n",
    "        print(\"%d\"%(a-b))\n",
    "    if op == \"*\":\n",
    "        print(\"%d\"%(a*b))\n",
    "    if op ==\"/\":\n",
    "        print(\"%d\"%(a/b))\n",
    "    if op ==\"?\":\n",
    "        break\n",
    "\n",
    "\n",
    "    \n",
    "    "
   ]
  },
  {
   "cell_type": "code",
   "execution_count": null,
   "metadata": {},
   "outputs": [],
   "source": [
    "BIG_NUM = 2000000000\n",
    "\n",
    "N = int(input())\n",
    "\n",
    "table = list(map(int,input().split()))\n",
    "\n",
    "maximum = -BIG_NUM\n",
    "minimum = BIG_NUM\n",
    "total = 0\n",
    "\n",
    "for x in table:\n",
    "    if maximum < x:\n",
    "        maximum = x\n",
    "    if minimum > x:\n",
    "        minimum = x\n",
    "    total += x\n",
    "\n",
    "print(\"%d %d %d\"%(minimum,maximum,total))"
   ]
  },
  {
   "cell_type": "code",
   "execution_count": 24,
   "metadata": {},
   "outputs": [
    {
     "name": "stdout",
     "output_type": "stream",
     "text": [
      "#####\n",
      "#####\n",
      "#####\n",
      "#####\n",
      "\n",
      "####\n",
      "####\n",
      "####\n",
      "\n",
      "###\n",
      "###\n",
      "###\n",
      "\n"
     ]
    }
   ],
   "source": [
    "while True:\n",
    "    H,W = map(int,input().split())\n",
    "    if H == 0 and W == 0:\n",
    "        break\n",
    "    for i in range(H):\n",
    "        print(\"#\"*W)\n",
    "    print()\n",
    "         "
   ]
  },
  {
   "cell_type": "code",
   "execution_count": 23,
   "metadata": {},
   "outputs": [
    {
     "name": "stdout",
     "output_type": "stream",
     "text": [
      "####\n",
      "#..#\n",
      "####\n",
      "\n"
     ]
    }
   ],
   "source": [
    "while True:\n",
    "    H,W = map(int,input().split())\n",
    "    if H == 0 and W == 0:\n",
    "        break\n",
    "    for i in range(H):\n",
    "        for k in range(W):\n",
    "            if i == 0 or i == H-1 or k == 0 or k == W-1:\n",
    "                print(\"#\",end = \"\")\n",
    "            else:\n",
    "                print(\".\",end = \"\")\n",
    "        print()\n",
    "    print() "
   ]
  },
  {
   "cell_type": "code",
   "execution_count": 44,
   "metadata": {},
   "outputs": [
    {
     "name": "stdout",
     "output_type": "stream",
     "text": [
      "#.#.#.#.#.\n",
      ".#.#.#.#.#\n",
      "#.#.#.#.#.\n",
      ".#.#.#.#.#\n",
      "#.#.#.#.#.\n",
      ".#.#.#.#.#\n",
      "\n"
     ]
    }
   ],
   "source": [
    "while True:\n",
    "    H,W = map(int,input().split())\n",
    "    if H == 0 and W == 0:\n",
    "        break\n",
    "    for i in range(H):\n",
    "        for k in range(W):\n",
    "            if (i+k)%2 ==0:\n",
    "                print(\"#\",end = \"\")\n",
    "            else:\n",
    "                print(\".\",end = \"\")\n",
    "        print()\n",
    "    print()"
   ]
  },
  {
   "cell_type": "code",
   "execution_count": 33,
   "metadata": {},
   "outputs": [],
   "source": [
    "n = int(input())\n",
    "def check_num():\n",
    "    x = n \n",
    "    if x%3 ==0:\n",
    "        print(\"%d\"%n)\n",
    "        end_check_sum()\n",
    "\n",
    "def Include3():\n",
    "    if x % 10 == 3:\n",
    "        print(\"%d\"%n)\n",
    "        end_check_sum()\n",
    "\n",
    "x /=10\n",
    "if x :\n",
    "    Include3()\n",
    "\n",
    "def end_check_sum():\n",
    "    if (i+1) <=n:\n",
    "        check_num()\n",
    "        print(x,end=\"\")"
   ]
  },
  {
   "cell_type": "code",
   "execution_count": 34,
   "metadata": {},
   "outputs": [
    {
     "name": "stdout",
     "output_type": "stream",
     "text": [
      " 3 6 9 12 13 15 18 21 23 24 27 30\n"
     ]
    }
   ],
   "source": [
    "N = int(input())\n",
    "x = 0\n",
    "\n",
    "for i in range(1,N+1):\n",
    "\n",
    "    if i%3 == 0:\n",
    "            print(\" %d\"%i,end = \"\");\n",
    "    else:\n",
    "        x = i\n",
    "        while (x):\n",
    "            if x%10 == 3:\n",
    "                print(\" %d\"%i,end = \"\")\n",
    "                break\n",
    "            x //= 10\n",
    "print()"
   ]
  },
  {
   "cell_type": "code",
   "execution_count": 42,
   "metadata": {},
   "outputs": [
    {
     "name": "stdout",
     "output_type": "stream",
     "text": [
      "5 4 3 2 1\n"
     ]
    }
   ],
   "source": [
    "x = int(input())\n",
    "a = list(map(int,input().split()))\n",
    "a.reverse()\n",
    "print(' '.join(map(str,a)))"
   ]
  },
  {
   "cell_type": "code",
   "execution_count": 47,
   "metadata": {},
   "outputs": [
    {
     "name": "stdout",
     "output_type": "stream",
     "text": [
      "[1, 1, 2]\n"
     ]
    },
    {
     "data": {
      "text/plain": [
       "'3'"
      ]
     },
     "execution_count": 47,
     "metadata": {},
     "output_type": "execute_result"
    }
   ],
   "source": [
    "def fibonacci():\n",
    "    num = int(input(\"How many numbers that generates?:\"))\n",
    "    i = 1\n",
    "    if num == 0:\n",
    "        fib = []\n",
    "    elif num == 1:\n",
    "        fib = [1]\n",
    "    elif num == 2:\n",
    "        fib = [1,1]\n",
    "    elif num > 2:\n",
    "        fib = [1,1]\n",
    "        while i < (num - 1):\n",
    "            fib.append(fib[i] + fib[i-1])\n",
    "            i += 1\n",
    "    return fib\n",
    "print(fibonacci())\n",
    "input()"
   ]
  },
  {
   "cell_type": "code",
   "execution_count": 48,
   "metadata": {},
   "outputs": [
    {
     "data": {
      "text/plain": [
       "81"
      ]
     },
     "execution_count": 48,
     "metadata": {},
     "output_type": "execute_result"
    }
   ],
   "source": [
    "3**4"
   ]
  },
  {
   "cell_type": "code",
   "execution_count": 50,
   "metadata": {},
   "outputs": [
    {
     "name": "stdout",
     "output_type": "stream",
     "text": [
      "P\"yt'h\"on\n"
     ]
    }
   ],
   "source": [
    "x = 'py''thon'\n",
    "print('P\"yt\\'h\"on')"
   ]
  },
  {
   "cell_type": "code",
   "execution_count": 2,
   "metadata": {},
   "outputs": [],
   "source": [
    "s = \"The youngest pope was 11 years old\""
   ]
  },
  {
   "cell_type": "code",
   "execution_count": 7,
   "metadata": {},
   "outputs": [
    {
     "name": "stdout",
     "output_type": "stream",
     "text": [
      "The youngest pope was 11 years ol\n"
     ]
    }
   ],
   "source": [
    "print(s[0:-1])"
   ]
  },
  {
   "cell_type": "code",
   "execution_count": 12,
   "metadata": {},
   "outputs": [
    {
     "data": {
      "text/plain": [
       "[0, 0, 2]"
      ]
     },
     "execution_count": 12,
     "metadata": {},
     "output_type": "execute_result"
    }
   ],
   "source": [
    "[x * y for x in range(3) for y in\n",
    "range(3) if x>y]\n"
   ]
  },
  {
   "cell_type": "code",
   "execution_count": 14,
   "metadata": {},
   "outputs": [
    {
     "data": {
      "text/plain": [
       "{0, 4}"
      ]
     },
     "execution_count": 14,
     "metadata": {},
     "output_type": "execute_result"
    }
   ],
   "source": [
    "{ x**2 for x in [0,2,4] if x\n",
    "< 4 } "
   ]
  },
  {
   "cell_type": "code",
   "execution_count": 31,
   "metadata": {},
   "outputs": [],
   "source": [
    "su='SHCD'\n"
   ]
  },
  {
   "cell_type": "code",
   "execution_count": null,
   "metadata": {},
   "outputs": [],
   "source": [
    "N = int(input())\n",
    "exist=[[False]*14 for i in range(4)]\n",
    "for i in range(N):\n",
    "    s,num = input().split()\n",
    "    num = int(num)\n",
    "    exist[su.find(s)][num] = True\n",
    "for i in range(4):\n",
    "    for j in range(1,14):\n",
    "        if not exist[i][j]:\n",
    "            print(su[i],j)\n"
   ]
  },
  {
   "cell_type": "code",
   "execution_count": 45,
   "metadata": {},
   "outputs": [],
   "source": [
    "list1 = []"
   ]
  },
  {
   "cell_type": "code",
   "execution_count": 52,
   "metadata": {},
   "outputs": [],
   "source": [
    "for i in range(4):\n",
    "    s,num = input().split()\n",
    "    num = int(num)\n",
    "    list2 = list1.extend([s,num])\n",
    "    print(list2)"
   ]
  },
  {
   "cell_type": "code",
   "execution_count": 53,
   "metadata": {},
   "outputs": [
    {
     "name": "stdout",
     "output_type": "stream",
     "text": [
      "None\n"
     ]
    }
   ],
   "source": [
    "print(list2)"
   ]
  }
 ],
 "metadata": {
  "interpreter": {
   "hash": "2350637f88f88d2513fb97f91489f031060a0d97d71a62ead2e8894994e85640"
  },
  "kernelspec": {
   "display_name": "Python 3.9.7 ('base')",
   "language": "python",
   "name": "python3"
  },
  "language_info": {
   "codemirror_mode": {
    "name": "ipython",
    "version": 3
   },
   "file_extension": ".py",
   "mimetype": "text/x-python",
   "name": "python",
   "nbconvert_exporter": "python",
   "pygments_lexer": "ipython3",
   "version": "3.9.7"
  },
  "orig_nbformat": 4
 },
 "nbformat": 4,
 "nbformat_minor": 2
}
