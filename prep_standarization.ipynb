{
 "cells": [
  {
   "cell_type": "markdown",
   "metadata": {},
   "source": [
    "## Standarization \n",
    "\n",
    "Transforming the data into standard scale. \n",
    "\n",
    " Standardized value = X – μ / σ \n",
    "\n",
    "X= Value \n",
    "\n",
    "μ = Mean Value \n",
    "\n",
    "σ = Standard deviation\n"
   ]
  },
  {
   "cell_type": "markdown",
   "metadata": {},
   "source": [
    "### Dealing with Categorical Data \n",
    "\n",
    "- Non Numerical Data\n",
    "- How to convert them to numeric\n",
    "- Do Encoding of Data to convert them to numeric\n",
    "\n",
    "#### Binary Encoding \n",
    "\n",
    "Convert data to binary format using binary encoding\n",
    "  \n",
    "- #### One-Hot Encoding\n",
    "       - according to the number of categories \n",
    "       - not good for so many categories\n",
    " - One-Hot when dealing with few categories\n",
    " - Binary encoding is good for so many categories\n",
    "  \n",
    "\n"
   ]
  }
 ],
 "metadata": {
  "kernelspec": {
   "display_name": "Python 3.9.7 ('base')",
   "language": "python",
   "name": "python3"
  },
  "language_info": {
   "name": "python",
   "version": "3.9.7"
  },
  "orig_nbformat": 4,
  "vscode": {
   "interpreter": {
    "hash": "2350637f88f88d2513fb97f91489f031060a0d97d71a62ead2e8894994e85640"
   }
  }
 },
 "nbformat": 4,
 "nbformat_minor": 2
}
