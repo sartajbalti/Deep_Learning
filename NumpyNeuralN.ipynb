{
 "cells": [
  {
   "cell_type": "code",
   "execution_count": 58,
   "metadata": {},
   "outputs": [],
   "source": [
    "import numpy as np \n",
    "import matplotlib.pyplot as plt \n",
    "import tensorflow as tf"
   ]
  },
  {
   "cell_type": "code",
   "execution_count": 59,
   "metadata": {},
   "outputs": [],
   "source": [
    "obs = 10000\n",
    "xs = np.random.uniform(-100,100,(obs,1))\n",
    "zs = np.random.uniform(-100,100,(obs,1))\n",
    "input = np.column_stack((xs,zs))\n",
    "noise = np.random.uniform(-1,1,(obs,1))\n",
    "target = 3*xs + 2*zs +7+ noise\n",
    "np.savez('data',inputs=input,targets=target)"
   ]
  },
  {
   "cell_type": "code",
   "execution_count": 60,
   "metadata": {},
   "outputs": [],
   "source": [
    "train_data = np.load('data.npz')"
   ]
  },
  {
   "cell_type": "code",
   "execution_count": 61,
   "metadata": {},
   "outputs": [],
   "source": [
    "input_size = 2\n",
    "output_size = 1\n",
    "model = tf.keras.Sequential([tf.keras.layers.Dense(1, kernel_initializer = tf.random_normal_initializer(-.1,.1),bias_initializer = tf.random_normal_initializer(-.1,.1))])\n",
    "opti = tf.keras.optimizers.Adam(learning_rate=.001)\n",
    "model.compile(optimizer=opti,loss='huber_loss')"
   ]
  },
  {
   "cell_type": "code",
   "execution_count": 62,
   "metadata": {},
   "outputs": [
    {
     "name": "stdout",
     "output_type": "stream",
     "text": [
      "Epoch 1/100\n",
      "313/313 [==============================] - 0s 549us/step - loss: 167.0739\n",
      "Epoch 2/100\n",
      "313/313 [==============================] - 0s 548us/step - loss: 147.7316\n",
      "Epoch 3/100\n",
      "313/313 [==============================] - 0s 541us/step - loss: 128.6030\n",
      "Epoch 4/100\n",
      "313/313 [==============================] - 0s 581us/step - loss: 109.7039\n",
      "Epoch 5/100\n",
      "313/313 [==============================] - 0s 584us/step - loss: 91.0638\n",
      "Epoch 6/100\n",
      "313/313 [==============================] - 0s 513us/step - loss: 72.7924\n",
      "Epoch 7/100\n",
      "313/313 [==============================] - 0s 527us/step - loss: 54.9186\n",
      "Epoch 8/100\n",
      "313/313 [==============================] - 0s 531us/step - loss: 37.5451\n",
      "Epoch 9/100\n",
      "313/313 [==============================] - 0s 563us/step - loss: 21.0719\n",
      "Epoch 10/100\n",
      "313/313 [==============================] - 0s 543us/step - loss: 7.7111\n",
      "Epoch 11/100\n",
      "313/313 [==============================] - 0s 545us/step - loss: 4.7959\n",
      "Epoch 12/100\n",
      "313/313 [==============================] - 0s 546us/step - loss: 4.2752\n",
      "Epoch 13/100\n",
      "313/313 [==============================] - 0s 541us/step - loss: 3.8519\n",
      "Epoch 14/100\n",
      "313/313 [==============================] - 0s 542us/step - loss: 3.4703\n",
      "Epoch 15/100\n",
      "313/313 [==============================] - 0s 535us/step - loss: 3.1130\n",
      "Epoch 16/100\n",
      "313/313 [==============================] - 0s 534us/step - loss: 2.7696\n",
      "Epoch 17/100\n",
      "313/313 [==============================] - 0s 548us/step - loss: 2.4367\n",
      "Epoch 18/100\n",
      "313/313 [==============================] - 0s 536us/step - loss: 2.1121\n",
      "Epoch 19/100\n",
      "313/313 [==============================] - 0s 543us/step - loss: 1.7908\n",
      "Epoch 20/100\n",
      "313/313 [==============================] - 0s 550us/step - loss: 1.4765\n",
      "Epoch 21/100\n",
      "313/313 [==============================] - 0s 535us/step - loss: 1.1653\n",
      "Epoch 22/100\n",
      "313/313 [==============================] - 0s 551us/step - loss: 0.8863\n",
      "Epoch 23/100\n",
      "313/313 [==============================] - 0s 545us/step - loss: 0.6485\n",
      "Epoch 24/100\n",
      "313/313 [==============================] - 0s 538us/step - loss: 0.4655\n",
      "Epoch 25/100\n",
      "313/313 [==============================] - 0s 573us/step - loss: 0.3361\n",
      "Epoch 26/100\n",
      "313/313 [==============================] - 0s 535us/step - loss: 0.2524\n",
      "Epoch 27/100\n",
      "313/313 [==============================] - 0s 518us/step - loss: 0.2060\n",
      "Epoch 28/100\n",
      "313/313 [==============================] - 0s 516us/step - loss: 0.1818\n",
      "Epoch 29/100\n",
      "313/313 [==============================] - 0s 535us/step - loss: 0.1722\n",
      "Epoch 30/100\n",
      "313/313 [==============================] - 0s 513us/step - loss: 0.1688\n",
      "Epoch 31/100\n",
      "313/313 [==============================] - 0s 504us/step - loss: 0.1686\n",
      "Epoch 32/100\n",
      "313/313 [==============================] - 0s 511us/step - loss: 0.1677\n",
      "Epoch 33/100\n",
      "313/313 [==============================] - 0s 528us/step - loss: 0.1677\n",
      "Epoch 34/100\n",
      "313/313 [==============================] - 0s 527us/step - loss: 0.1673\n",
      "Epoch 35/100\n",
      "313/313 [==============================] - 0s 552us/step - loss: 0.1669\n",
      "Epoch 36/100\n",
      "313/313 [==============================] - 0s 548us/step - loss: 0.1666\n",
      "Epoch 37/100\n",
      "313/313 [==============================] - 0s 534us/step - loss: 0.1677\n",
      "Epoch 38/100\n",
      "313/313 [==============================] - 0s 532us/step - loss: 0.1683\n",
      "Epoch 39/100\n",
      "313/313 [==============================] - 0s 518us/step - loss: 0.1683\n",
      "Epoch 40/100\n",
      "313/313 [==============================] - 0s 523us/step - loss: 0.1678\n",
      "Epoch 41/100\n",
      "313/313 [==============================] - 0s 530us/step - loss: 0.1688\n",
      "Epoch 42/100\n",
      "313/313 [==============================] - 0s 532us/step - loss: 0.1675\n",
      "Epoch 43/100\n",
      "313/313 [==============================] - 0s 527us/step - loss: 0.1673\n",
      "Epoch 44/100\n",
      "313/313 [==============================] - 0s 525us/step - loss: 0.1669\n",
      "Epoch 45/100\n",
      "313/313 [==============================] - 0s 543us/step - loss: 0.1682\n",
      "Epoch 46/100\n",
      "313/313 [==============================] - 0s 554us/step - loss: 0.1675\n",
      "Epoch 47/100\n",
      "313/313 [==============================] - 0s 550us/step - loss: 0.1679\n",
      "Epoch 48/100\n",
      "313/313 [==============================] - 0s 526us/step - loss: 0.1689\n",
      "Epoch 49/100\n",
      "313/313 [==============================] - 0s 539us/step - loss: 0.1686\n",
      "Epoch 50/100\n",
      "313/313 [==============================] - 0s 547us/step - loss: 0.1673\n",
      "Epoch 51/100\n",
      "313/313 [==============================] - 0s 529us/step - loss: 0.1676\n",
      "Epoch 52/100\n",
      "313/313 [==============================] - 0s 540us/step - loss: 0.1676\n",
      "Epoch 53/100\n",
      "313/313 [==============================] - 0s 540us/step - loss: 0.1678\n",
      "Epoch 54/100\n",
      "313/313 [==============================] - 0s 527us/step - loss: 0.1673\n",
      "Epoch 55/100\n",
      "313/313 [==============================] - 0s 532us/step - loss: 0.1675\n",
      "Epoch 56/100\n",
      "313/313 [==============================] - 0s 537us/step - loss: 0.1672\n",
      "Epoch 57/100\n",
      "313/313 [==============================] - 0s 594us/step - loss: 0.1666\n",
      "Epoch 58/100\n",
      "313/313 [==============================] - 0s 521us/step - loss: 0.1668\n",
      "Epoch 59/100\n",
      "313/313 [==============================] - 0s 522us/step - loss: 0.1677\n",
      "Epoch 60/100\n",
      "313/313 [==============================] - 0s 519us/step - loss: 0.1680\n",
      "Epoch 61/100\n",
      "313/313 [==============================] - 0s 522us/step - loss: 0.1674\n",
      "Epoch 62/100\n",
      "313/313 [==============================] - 0s 529us/step - loss: 0.1673\n",
      "Epoch 63/100\n",
      "313/313 [==============================] - 0s 514us/step - loss: 0.1679\n",
      "Epoch 64/100\n",
      "313/313 [==============================] - 0s 524us/step - loss: 0.1677\n",
      "Epoch 65/100\n",
      "313/313 [==============================] - 0s 529us/step - loss: 0.1674\n",
      "Epoch 66/100\n",
      "313/313 [==============================] - 0s 527us/step - loss: 0.1681\n",
      "Epoch 67/100\n",
      "313/313 [==============================] - 0s 524us/step - loss: 0.1674\n",
      "Epoch 68/100\n",
      "313/313 [==============================] - 0s 529us/step - loss: 0.1673\n",
      "Epoch 69/100\n",
      "313/313 [==============================] - 0s 529us/step - loss: 0.1676\n",
      "Epoch 70/100\n",
      "313/313 [==============================] - 0s 565us/step - loss: 0.1671\n",
      "Epoch 71/100\n",
      "313/313 [==============================] - 0s 524us/step - loss: 0.1683\n",
      "Epoch 72/100\n",
      "313/313 [==============================] - 0s 529us/step - loss: 0.1680\n",
      "Epoch 73/100\n",
      "313/313 [==============================] - 0s 527us/step - loss: 0.1687\n",
      "Epoch 74/100\n",
      "313/313 [==============================] - 0s 537us/step - loss: 0.1682\n",
      "Epoch 75/100\n",
      "313/313 [==============================] - 0s 508us/step - loss: 0.1684\n",
      "Epoch 76/100\n",
      "313/313 [==============================] - 0s 515us/step - loss: 0.1670\n",
      "Epoch 77/100\n",
      "313/313 [==============================] - 0s 508us/step - loss: 0.1667\n",
      "Epoch 78/100\n",
      "313/313 [==============================] - 0s 513us/step - loss: 0.1677\n",
      "Epoch 79/100\n",
      "313/313 [==============================] - 0s 509us/step - loss: 0.1682\n",
      "Epoch 80/100\n",
      "313/313 [==============================] - 0s 524us/step - loss: 0.1676\n",
      "Epoch 81/100\n",
      "313/313 [==============================] - 0s 585us/step - loss: 0.1677\n",
      "Epoch 82/100\n",
      "313/313 [==============================] - 0s 501us/step - loss: 0.1679\n",
      "Epoch 83/100\n",
      "313/313 [==============================] - 0s 518us/step - loss: 0.1685\n",
      "Epoch 84/100\n",
      "313/313 [==============================] - 0s 530us/step - loss: 0.1684\n",
      "Epoch 85/100\n",
      "313/313 [==============================] - 0s 522us/step - loss: 0.1677\n",
      "Epoch 86/100\n",
      "313/313 [==============================] - 0s 534us/step - loss: 0.1678\n",
      "Epoch 87/100\n",
      "313/313 [==============================] - 0s 523us/step - loss: 0.1677\n",
      "Epoch 88/100\n",
      "313/313 [==============================] - 0s 532us/step - loss: 0.1676\n",
      "Epoch 89/100\n",
      "313/313 [==============================] - 0s 528us/step - loss: 0.1672\n",
      "Epoch 90/100\n",
      "313/313 [==============================] - 0s 524us/step - loss: 0.1684\n",
      "Epoch 91/100\n",
      "313/313 [==============================] - 0s 539us/step - loss: 0.1678\n",
      "Epoch 92/100\n",
      "313/313 [==============================] - 0s 587us/step - loss: 0.1681\n",
      "Epoch 93/100\n",
      "313/313 [==============================] - 0s 536us/step - loss: 0.1676\n",
      "Epoch 94/100\n",
      "313/313 [==============================] - 0s 539us/step - loss: 0.1677\n",
      "Epoch 95/100\n",
      "313/313 [==============================] - 0s 523us/step - loss: 0.1684\n",
      "Epoch 96/100\n",
      "313/313 [==============================] - 0s 524us/step - loss: 0.1684\n",
      "Epoch 97/100\n",
      "313/313 [==============================] - 0s 526us/step - loss: 0.1677\n",
      "Epoch 98/100\n",
      "313/313 [==============================] - 0s 522us/step - loss: 0.1679\n",
      "Epoch 99/100\n",
      "313/313 [==============================] - 0s 522us/step - loss: 0.1676\n",
      "Epoch 100/100\n",
      "313/313 [==============================] - 0s 525us/step - loss: 0.1675\n"
     ]
    },
    {
     "data": {
      "text/plain": [
       "<keras.callbacks.History at 0x26ef005f588>"
      ]
     },
     "execution_count": 62,
     "metadata": {},
     "output_type": "execute_result"
    }
   ],
   "source": [
    "model.fit(train_data['inputs'],train_data['targets'],epochs=100)"
   ]
  },
  {
   "cell_type": "code",
   "execution_count": 63,
   "metadata": {},
   "outputs": [],
   "source": [
    "weights = model.layers[0].get_weights()[0]"
   ]
  },
  {
   "cell_type": "code",
   "execution_count": 64,
   "metadata": {},
   "outputs": [],
   "source": [
    "bias = model.layers[0].get_weights()[1]"
   ]
  },
  {
   "cell_type": "code",
   "execution_count": 65,
   "metadata": {},
   "outputs": [
    {
     "name": "stdout",
     "output_type": "stream",
     "text": [
      "[[3.0013356]\n",
      " [2.0003247]] [7.00323]\n"
     ]
    }
   ],
   "source": [
    "print(weights,bias)"
   ]
  },
  {
   "cell_type": "code",
   "execution_count": 66,
   "metadata": {},
   "outputs": [
    {
     "data": {
      "text/plain": [
       "array([[ 113.8],\n",
       "       [ 243.9],\n",
       "       [-251.4],\n",
       "       ...,\n",
       "       [ -34.1],\n",
       "       [-149. ],\n",
       "       [ -76.7]], dtype=float32)"
      ]
     },
     "execution_count": 66,
     "metadata": {},
     "output_type": "execute_result"
    }
   ],
   "source": [
    "pred = model.predict_on_batch(train_data['inputs']).round(1)\n",
    "pred"
   ]
  },
  {
   "cell_type": "code",
   "execution_count": 67,
   "metadata": {},
   "outputs": [
    {
     "data": {
      "text/plain": [
       "array([[ 113.4],\n",
       "       [ 244.7],\n",
       "       [-252. ],\n",
       "       ...,\n",
       "       [ -33.1],\n",
       "       [-148.5],\n",
       "       [ -77.2]])"
      ]
     },
     "execution_count": 67,
     "metadata": {},
     "output_type": "execute_result"
    }
   ],
   "source": [
    "tar = train_data['targets'].round(1)\n",
    "tar"
   ]
  },
  {
   "cell_type": "code",
   "execution_count": 68,
   "metadata": {},
   "outputs": [
    {
     "data": {
      "image/png": "[encoded data removed]",
      "text/plain": [
       "<Figure size 432x288 with 1 Axes>"
      ]
     },
     "metadata": {
      "needs_background": "light"
     },
     "output_type": "display_data"
    }
   ],
   "source": [
    "plt.plot(pred,tar,'',color=\"red\")\n",
    "plt.xlabel('Predicted')\n",
    "plt.ylabel('Target')\n",
    "#plt.legend('topright')\n",
    "plt.show()"
   ]
  },
  {
   "cell_type": "code",
   "execution_count": null,
   "metadata": {},
   "outputs": [],
   "source": []
  }
 ],
 "metadata": {
  "kernelspec": {
   "display_name": "Python 3.7.0 ('agmn')",
   "language": "python",
   "name": "python3"
  },
  "language_info": {
   "codemirror_mode": {
    "name": "ipython",
    "version": 3
   },
   "file_extension": ".py",
   "mimetype": "text/x-python",
   "name": "python",
   "nbconvert_exporter": "python",
   "pygments_lexer": "ipython3",
   "version": "3.7.0"
  },
  "orig_nbformat": 4,
  "vscode": {
   "interpreter": {
    "hash": "6ae8e7103e2551143fb447a9b6084dfd31386d5c03ebb907114bf53983988c95"
   }
  }
 },
 "nbformat": 4,
 "nbformat_minor": 2
}
