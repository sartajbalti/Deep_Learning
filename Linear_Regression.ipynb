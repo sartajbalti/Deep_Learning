{
 "cells": [
  {
   "cell_type": "markdown",
   "metadata": {},
   "source": [
    "# ***Linear Regression Using Pytorch***\n",
    "\n"
   ]
  },
  {
   "cell_type": "markdown",
   "metadata": {},
   "source": [
    "### ***Training Data*** \n",
    "The Training Data can be represented using 2 matrices: inputs and targets, each with one row per observation, and one column per veriable.\n"
   ]
  },
  {
   "cell_type": "code",
   "execution_count": 1,
   "metadata": {},
   "outputs": [],
   "source": [
    "import numpy as np \n",
    "import torch"
   ]
  },
  {
   "cell_type": "code",
   "execution_count": 8,
   "metadata": {},
   "outputs": [],
   "source": [
    "#Input(Temp, Rainfall, Humidity)\n",
    "inputs = np.array([[73,67,43],[91,88,64],[87,134,58],[102,43,37],[69,96,70]], dtype='float32')\n",
    "\n",
    "# Target (apples ,oranges in tons)\n",
    "target = np.array([[56,70],[81,101],[119,133],[22,37],[103,119]],dtype='float32')"
   ]
  },
  {
   "cell_type": "code",
   "execution_count": 9,
   "metadata": {},
   "outputs": [
    {
     "name": "stdout",
     "output_type": "stream",
     "text": [
      "tensor([[ 73.,  67.,  43.],\n",
      "        [ 91.,  88.,  64.],\n",
      "        [ 87., 134.,  58.],\n",
      "        [102.,  43.,  37.],\n",
      "        [ 69.,  96.,  70.]])\n",
      "tensor([[ 56.,  70.],\n",
      "        [ 81., 101.],\n",
      "        [119., 133.],\n",
      "        [ 22.,  37.],\n",
      "        [103., 119.]])\n"
     ]
    }
   ],
   "source": [
    "# Convert inputs and targets  to tensor\n",
    "inputs = torch.from_numpy(inputs)\n",
    "target = torch.from_numpy(target)\n",
    "print(inputs)\n",
    "print(target)"
   ]
  },
  {
   "cell_type": "code",
   "execution_count": 13,
   "metadata": {},
   "outputs": [
    {
     "data": {
      "text/plain": [
       "(tensor([[ 1.5117, -0.2759,  0.9890],\n",
       "         [-1.7500, -0.2394,  2.5041]], requires_grad=True),\n",
       " tensor([0.9611, 0.0190], requires_grad=True))"
      ]
     },
     "execution_count": 13,
     "metadata": {},
     "output_type": "execute_result"
    }
   ],
   "source": [
    "# Weight and bias \n",
    "w = torch.randn(2,3,requires_grad=True)\n",
    "b = torch.randn(2,requires_grad=True)\n",
    "w,b"
   ]
  },
  {
   "cell_type": "markdown",
   "metadata": {},
   "source": [
    "> @ represents matrix multiplication in PyTorch and the .t is for transpose"
   ]
  },
  {
   "cell_type": "code",
   "execution_count": 14,
   "metadata": {},
   "outputs": [],
   "source": [
    "def model(x):\n",
    "    return x @ w.t() + b"
   ]
  },
  {
   "cell_type": "code",
   "execution_count": 15,
   "metadata": {},
   "outputs": [
    {
     "name": "stdout",
     "output_type": "stream",
     "text": [
      "tensor([[135.3612, -36.0899],\n",
      "        [177.5480, -20.0302],\n",
      "        [152.8758, -39.0656],\n",
      "        [179.8894, -96.1185],\n",
      "        [148.0164,  31.5785]], grad_fn=<AddBackward0>)\n"
     ]
    }
   ],
   "source": [
    "preds = model(inputs)\n",
    "print(preds)"
   ]
  },
  {
   "cell_type": "code",
   "execution_count": 16,
   "metadata": {},
   "outputs": [
    {
     "name": "stdout",
     "output_type": "stream",
     "text": [
      "tensor([[ 56.,  70.],\n",
      "        [ 81., 101.],\n",
      "        [119., 133.],\n",
      "        [ 22.,  37.],\n",
      "        [103., 119.]])\n"
     ]
    }
   ],
   "source": [
    "# Compare with targets \n",
    "print(target)"
   ]
  },
  {
   "cell_type": "code",
   "execution_count": 22,
   "metadata": {},
   "outputs": [
    {
     "data": {
      "text/plain": [
       "tensor(12459.5830, grad_fn=<DivBackward0>)"
      ]
     },
     "execution_count": 22,
     "metadata": {},
     "output_type": "execute_result"
    }
   ],
   "source": [
    "diff = preds-target\n",
    "torch.sum(diff*diff)/diff.numel()"
   ]
  },
  {
   "cell_type": "markdown",
   "metadata": {},
   "source": [
    "## ***Loss Function*** \n",
    "Before improve our model we need to know how well our model is performing using loss function. Here we are using MSE loss function.\n"
   ]
  },
  {
   "cell_type": "code",
   "execution_count": 23,
   "metadata": {},
   "outputs": [],
   "source": [
    "def MSE(t1,t2):\n",
    "    diff = t1-t2\n",
    "    return torch.sum(diff*diff)/diff.numel()\n"
   ]
  },
  {
   "cell_type": "code",
   "execution_count": 24,
   "metadata": {},
   "outputs": [
    {
     "name": "stdout",
     "output_type": "stream",
     "text": [
      "tensor(12459.5830, grad_fn=<DivBackward0>)\n"
     ]
    }
   ],
   "source": [
    "loss = MSE(preds,target)\n",
    "print(loss)"
   ]
  },
  {
   "cell_type": "markdown",
   "metadata": {},
   "source": [
    "### **Compute Gradients**\n"
   ]
  },
  {
   "cell_type": "code",
   "execution_count": 25,
   "metadata": {},
   "outputs": [],
   "source": [
    "# Compute gradients \n",
    "loss.backward()"
   ]
  },
  {
   "cell_type": "code",
   "execution_count": 26,
   "metadata": {},
   "outputs": [
    {
     "name": "stdout",
     "output_type": "stream",
     "text": [
      "tensor([[ 1.5117, -0.2759,  0.9890],\n",
      "        [-1.7500, -0.2394,  2.5041]], requires_grad=True)\n",
      "tensor([[  7347.4575,   5892.7217,   4109.8921],\n",
      "        [-10667.6377, -10986.4053,  -6666.4980]])\n"
     ]
    }
   ],
   "source": [
    "#Gradients of Weights \n",
    "print(w)\n",
    "print(w.grad)"
   ]
  },
  {
   "cell_type": "code",
   "execution_count": 27,
   "metadata": {},
   "outputs": [
    {
     "name": "stdout",
     "output_type": "stream",
     "text": [
      "tensor([[0., 0., 0.],\n",
      "        [0., 0., 0.]])\n",
      "tensor([0., 0.])\n"
     ]
    }
   ],
   "source": [
    "w.grad.zero_()\n",
    "b.grad.zero_()\n",
    "print(w.grad)\n",
    "print(b.grad)"
   ]
  },
  {
   "cell_type": "code",
   "execution_count": 28,
   "metadata": {},
   "outputs": [
    {
     "name": "stdout",
     "output_type": "stream",
     "text": [
      "tensor([[135.3612, -36.0899],\n",
      "        [177.5480, -20.0302],\n",
      "        [152.8758, -39.0656],\n",
      "        [179.8894, -96.1185],\n",
      "        [148.0164,  31.5785]], grad_fn=<AddBackward0>)\n"
     ]
    }
   ],
   "source": [
    "preds = model(inputs)\n",
    "print(preds)\n"
   ]
  },
  {
   "cell_type": "code",
   "execution_count": 29,
   "metadata": {},
   "outputs": [
    {
     "name": "stdout",
     "output_type": "stream",
     "text": [
      "tensor(12459.5830, grad_fn=<DivBackward0>)\n"
     ]
    }
   ],
   "source": [
    "loss = MSE(preds, target)\n",
    "print(loss)"
   ]
  },
  {
   "cell_type": "code",
   "execution_count": 30,
   "metadata": {},
   "outputs": [
    {
     "name": "stdout",
     "output_type": "stream",
     "text": [
      "tensor([[  7347.4575,   5892.7217,   4109.8921],\n",
      "        [-10667.6377, -10986.4053,  -6666.4980]])\n",
      "tensor([  82.5382, -123.9451])\n"
     ]
    }
   ],
   "source": [
    "loss.backward()\n",
    "print(w.grad)\n",
    "print(b.grad)"
   ]
  },
  {
   "cell_type": "code",
   "execution_count": 31,
   "metadata": {},
   "outputs": [],
   "source": [
    "# Adjust Weights and bais. \n",
    "with torch.no_grad():\n",
    "    w -=w.grad* 1e-5\n",
    "    b -=b.grad* 1e-5\n",
    "    w.grad.zero_()\n",
    "    b.grad.zero_()\n"
   ]
  },
  {
   "cell_type": "code",
   "execution_count": 32,
   "metadata": {},
   "outputs": [
    {
     "name": "stdout",
     "output_type": "stream",
     "text": [
      "tensor([[ 1.4383, -0.3348,  0.9479],\n",
      "        [-1.6433, -0.1295,  2.5707]], requires_grad=True)\n",
      "tensor([0.9603, 0.0203], requires_grad=True)\n"
     ]
    }
   ],
   "source": [
    "print(w)\n",
    "print(b)"
   ]
  },
  {
   "cell_type": "code",
   "execution_count": 33,
   "metadata": {},
   "outputs": [
    {
     "name": "stdout",
     "output_type": "stream",
     "text": [
      "tensor(8956.5605, grad_fn=<DivBackward0>)\n"
     ]
    }
   ],
   "source": [
    "preds = model(inputs)\n",
    "loss = MSE(preds,target)\n",
    "print(loss)"
   ]
  },
  {
   "cell_type": "code",
   "execution_count": 56,
   "metadata": {},
   "outputs": [],
   "source": [
    "# Train for multiple epochs\n",
    "for i in range (2000):\n",
    "    preds = model(inputs)\n",
    "    loss = MSE(preds,target)\n",
    "    loss.backward()\n",
    "    with torch.no_grad():\n",
    "        w -=w.grad* 1e-5\n",
    "        b -=b.grad* 1e-5\n",
    "        w.grad.zero_()\n",
    "        b.grad.zero_()\n",
    "\n"
   ]
  },
  {
   "cell_type": "code",
   "execution_count": 57,
   "metadata": {},
   "outputs": [
    {
     "name": "stdout",
     "output_type": "stream",
     "text": [
      "tensor(0.5306, grad_fn=<DivBackward0>)\n"
     ]
    }
   ],
   "source": [
    "# Calculate Loss\n",
    "preds = model(inputs)\n",
    "loss = MSE(preds,target)\n",
    "print(loss)"
   ]
  },
  {
   "cell_type": "code",
   "execution_count": 58,
   "metadata": {},
   "outputs": [
    {
     "data": {
      "text/plain": [
       "tensor([[ 57.3217,  70.3111],\n",
       "        [ 82.1089, 100.6691],\n",
       "        [118.6671, 132.9575],\n",
       "        [ 21.0617,  37.0149],\n",
       "        [101.9459, 119.1387]], grad_fn=<AddBackward0>)"
      ]
     },
     "execution_count": 58,
     "metadata": {},
     "output_type": "execute_result"
    }
   ],
   "source": [
    "preds "
   ]
  },
  {
   "cell_type": "code",
   "execution_count": 59,
   "metadata": {},
   "outputs": [
    {
     "data": {
      "text/plain": [
       "tensor([[ 56.,  70.],\n",
       "        [ 81., 101.],\n",
       "        [119., 133.],\n",
       "        [ 22.,  37.],\n",
       "        [103., 119.]])"
      ]
     },
     "execution_count": 59,
     "metadata": {},
     "output_type": "execute_result"
    }
   ],
   "source": [
    "target"
   ]
  },
  {
   "cell_type": "code",
   "execution_count": 70,
   "metadata": {},
   "outputs": [
    {
     "data": {
      "text/plain": [
       "tensor([[91., 88., 64.]])"
      ]
     },
     "execution_count": 70,
     "metadata": {},
     "output_type": "execute_result"
    }
   ],
   "source": [
    "a = np.array([[91,88,64]], dtype='float32')\n",
    "a = torch.from_numpy(a)\n",
    "a"
   ]
  },
  {
   "cell_type": "code",
   "execution_count": 72,
   "metadata": {},
   "outputs": [
    {
     "data": {
      "text/plain": [
       "tensor([[ 82.1089, 100.6691]], grad_fn=<AddBackward0>)"
      ]
     },
     "execution_count": 72,
     "metadata": {},
     "output_type": "execute_result"
    }
   ],
   "source": [
    "preds = model(a)\n",
    "preds"
   ]
  },
  {
   "cell_type": "code",
   "execution_count": 73,
   "metadata": {},
   "outputs": [],
   "source": [
    "import torch .nn as nn "
   ]
  },
  {
   "cell_type": "code",
   "execution_count": 74,
   "metadata": {},
   "outputs": [],
   "source": [
    "#Input(Temp, Rainfall, Humidity)\n",
    "inputs = np.array([[73,67,43],[91,88,64],[87,134,58],[102,43,37],[69,96,70],[73,67,43],[91,88,64],[87,134,58],[102,43,37],[69,96,70],[73,67,43],[91,88,64],[87,134,58],[102,43,37],[69,96,70]], dtype='float32')\n",
    "\n",
    "# Target (apples ,oranges in tons)\n",
    "target = np.array([[56,70],[81,101],[119,133],[22,37],[103,119],[56,70],[81,101],[119,133],[22,37],[103,119],[56,70],[81,101],[119,133],[22,37],[103,119]],dtype='float32')"
   ]
  },
  {
   "cell_type": "code",
   "execution_count": 75,
   "metadata": {},
   "outputs": [],
   "source": [
    "inputs = torch.from_numpy(inputs)\n",
    "target = torch.from_numpy(target)\n"
   ]
  },
  {
   "cell_type": "code",
   "execution_count": 76,
   "metadata": {},
   "outputs": [
    {
     "data": {
      "text/plain": [
       "(tensor([[ 73.,  67.,  43.],\n",
       "         [ 91.,  88.,  64.],\n",
       "         [ 87., 134.,  58.],\n",
       "         [102.,  43.,  37.],\n",
       "         [ 69.,  96.,  70.],\n",
       "         [ 73.,  67.,  43.],\n",
       "         [ 91.,  88.,  64.],\n",
       "         [ 87., 134.,  58.],\n",
       "         [102.,  43.,  37.],\n",
       "         [ 69.,  96.,  70.],\n",
       "         [ 73.,  67.,  43.],\n",
       "         [ 91.,  88.,  64.],\n",
       "         [ 87., 134.,  58.],\n",
       "         [102.,  43.,  37.],\n",
       "         [ 69.,  96.,  70.]]),\n",
       " tensor([[ 56.,  70.],\n",
       "         [ 81., 101.],\n",
       "         [119., 133.],\n",
       "         [ 22.,  37.],\n",
       "         [103., 119.],\n",
       "         [ 56.,  70.],\n",
       "         [ 81., 101.],\n",
       "         [119., 133.],\n",
       "         [ 22.,  37.],\n",
       "         [103., 119.],\n",
       "         [ 56.,  70.],\n",
       "         [ 81., 101.],\n",
       "         [119., 133.],\n",
       "         [ 22.,  37.],\n",
       "         [103., 119.]]))"
      ]
     },
     "execution_count": 76,
     "metadata": {},
     "output_type": "execute_result"
    }
   ],
   "source": [
    "inputs,target"
   ]
  },
  {
   "cell_type": "markdown",
   "metadata": {},
   "source": [
    "## Dataset and DataLoader"
   ]
  },
  {
   "cell_type": "code",
   "execution_count": 83,
   "metadata": {},
   "outputs": [
    {
     "data": {
      "text/plain": [
       "(tensor([[ 73.,  67.,  43.],\n",
       "         [ 91.,  88.,  64.],\n",
       "         [ 87., 134.,  58.]]),\n",
       " tensor([[ 56.,  70.],\n",
       "         [ 81., 101.],\n",
       "         [119., 133.]]))"
      ]
     },
     "execution_count": 83,
     "metadata": {},
     "output_type": "execute_result"
    }
   ],
   "source": [
    "from torch.utils.data import TensorDataset\n",
    "train_ds = TensorDataset(inputs,target)\n",
    "train_ds[0:3]"
   ]
  },
  {
   "cell_type": "code",
   "execution_count": 84,
   "metadata": {},
   "outputs": [],
   "source": [
    "from torch.utils.data import DataLoader\n",
    "#Define data loader\n",
    "batch_size = 5\n",
    "train_dl = DataLoader(train_ds,batch_size, shuffle=True)"
   ]
  },
  {
   "cell_type": "code",
   "execution_count": 86,
   "metadata": {},
   "outputs": [
    {
     "name": "stdout",
     "output_type": "stream",
     "text": [
      "Batch\n",
      "tensor([[ 91.,  88.,  64.],\n",
      "        [ 87., 134.,  58.],\n",
      "        [ 87., 134.,  58.],\n",
      "        [102.,  43.,  37.],\n",
      "        [ 69.,  96.,  70.]])\n",
      "tensor([[ 81., 101.],\n",
      "        [119., 133.],\n",
      "        [119., 133.],\n",
      "        [ 22.,  37.],\n",
      "        [103., 119.]])\n"
     ]
    }
   ],
   "source": [
    "for xb,yb in train_dl:\n",
    "    print(\"Batch\")\n",
    "    print(xb)\n",
    "    print(yb)\n",
    "    break"
   ]
  },
  {
   "cell_type": "code",
   "execution_count": 87,
   "metadata": {},
   "outputs": [
    {
     "name": "stdout",
     "output_type": "stream",
     "text": [
      "Parameter containing:\n",
      "tensor([[-0.3948,  0.5062,  0.2729],\n",
      "        [-0.3147, -0.5427, -0.4544]], requires_grad=True)\n",
      "Parameter containing:\n",
      "tensor([0.1273, 0.4724], requires_grad=True)\n"
     ]
    }
   ],
   "source": [
    "# NN.Linear \n",
    "\n",
    "model = nn.Linear(3,2)\n",
    "print(model.weight)\n",
    "print(model.bias)"
   ]
  },
  {
   "cell_type": "code",
   "execution_count": 90,
   "metadata": {},
   "outputs": [
    {
     "data": {
      "text/plain": [
       "[Parameter containing:\n",
       " tensor([[-0.3948,  0.5062,  0.2729],\n",
       "         [-0.3147, -0.5427, -0.4544]], requires_grad=True),\n",
       " Parameter containing:\n",
       " tensor([0.1273, 0.4724], requires_grad=True)]"
      ]
     },
     "execution_count": 90,
     "metadata": {},
     "output_type": "execute_result"
    }
   ],
   "source": [
    "# .parameters contains the weights and baises \n",
    "list(model.parameters())"
   ]
  },
  {
   "cell_type": "code",
   "execution_count": 91,
   "metadata": {},
   "outputs": [
    {
     "data": {
      "text/plain": [
       "tensor([[  16.9613,  -78.4009],\n",
       "        [  26.2173, -105.0045],\n",
       "        [  49.4452, -125.9843],\n",
       "        [  -8.2740,  -71.7759],\n",
       "        [  40.5897, -105.1490],\n",
       "        [  16.9613,  -78.4009],\n",
       "        [  26.2173, -105.0045],\n",
       "        [  49.4452, -125.9843],\n",
       "        [  -8.2740,  -71.7759],\n",
       "        [  40.5897, -105.1490],\n",
       "        [  16.9613,  -78.4009],\n",
       "        [  26.2173, -105.0045],\n",
       "        [  49.4452, -125.9843],\n",
       "        [  -8.2740,  -71.7759],\n",
       "        [  40.5897, -105.1490]], grad_fn=<AddmmBackward0>)"
      ]
     },
     "execution_count": 91,
     "metadata": {},
     "output_type": "execute_result"
    }
   ],
   "source": [
    "preds = model(inputs)\n",
    "preds"
   ]
  },
  {
   "cell_type": "code",
   "execution_count": 92,
   "metadata": {},
   "outputs": [],
   "source": [
    "# Import loss function manually we can use built-in loss function mse_loss \n",
    "# Import nn.functonal \n",
    "import torch.nn.functional as F \n",
    "loss_fn = F.mse_loss\n"
   ]
  },
  {
   "cell_type": "code",
   "execution_count": 94,
   "metadata": {},
   "outputs": [
    {
     "data": {
      "text/plain": [
       "tensor(20778.3125, grad_fn=<MseLossBackward0>)"
      ]
     },
     "execution_count": 94,
     "metadata": {},
     "output_type": "execute_result"
    }
   ],
   "source": [
    "loss = loss_fn(model(inputs),target)\n",
    "loss"
   ]
  },
  {
   "cell_type": "code",
   "execution_count": 95,
   "metadata": {},
   "outputs": [],
   "source": [
    "# Defining Optimizers \n",
    "opt = torch.optim.SGD(model.parameters(),lr=1e-5)"
   ]
  },
  {
   "cell_type": "code",
   "execution_count": 96,
   "metadata": {},
   "outputs": [],
   "source": [
    "def fit(num_epochs, model, loss_fn, opt,train_dl):\n",
    "    for epoch in range(num_epochs):\n",
    "        for xb,yb in train_dl:\n",
    "            preds =model(xb)\n",
    "            loss = loss_fn(preds,yb)\n",
    "            loss.backward()\n",
    "            opt.step()\n",
    "            opt.zero_grad()\n",
    "        if(epoch+1)% 10 == 0:\n",
    "            print(\"Epoch [{}/{}], Loss:{:.4f}\".format(epoch+1, num_epochs,loss))"
   ]
  },
  {
   "cell_type": "code",
   "execution_count": 122,
   "metadata": {},
   "outputs": [
    {
     "name": "stdout",
     "output_type": "stream",
     "text": [
      "Epoch [10/400], Loss:0.6013\n",
      "Epoch [20/400], Loss:0.6337\n",
      "Epoch [30/400], Loss:0.4871\n",
      "Epoch [40/400], Loss:0.4525\n",
      "Epoch [50/400], Loss:0.5273\n",
      "Epoch [60/400], Loss:0.5247\n",
      "Epoch [70/400], Loss:0.6207\n",
      "Epoch [80/400], Loss:0.6819\n",
      "Epoch [90/400], Loss:0.5322\n",
      "Epoch [100/400], Loss:0.5618\n",
      "Epoch [110/400], Loss:0.4999\n",
      "Epoch [120/400], Loss:0.4348\n",
      "Epoch [130/400], Loss:0.5297\n",
      "Epoch [140/400], Loss:0.5599\n",
      "Epoch [150/400], Loss:0.6161\n",
      "Epoch [160/400], Loss:0.6372\n",
      "Epoch [170/400], Loss:0.5868\n",
      "Epoch [180/400], Loss:0.5992\n",
      "Epoch [190/400], Loss:0.4542\n",
      "Epoch [200/400], Loss:0.7211\n",
      "Epoch [210/400], Loss:0.5456\n",
      "Epoch [220/400], Loss:0.4635\n",
      "Epoch [230/400], Loss:0.6017\n",
      "Epoch [240/400], Loss:0.7133\n",
      "Epoch [250/400], Loss:0.5194\n",
      "Epoch [260/400], Loss:0.4701\n",
      "Epoch [270/400], Loss:0.6949\n",
      "Epoch [280/400], Loss:0.5605\n",
      "Epoch [290/400], Loss:0.6367\n",
      "Epoch [300/400], Loss:0.3897\n",
      "Epoch [310/400], Loss:0.5609\n",
      "Epoch [320/400], Loss:0.5627\n",
      "Epoch [330/400], Loss:0.5584\n",
      "Epoch [340/400], Loss:0.5644\n",
      "Epoch [350/400], Loss:0.4516\n",
      "Epoch [360/400], Loss:0.4197\n",
      "Epoch [370/400], Loss:0.4003\n",
      "Epoch [380/400], Loss:0.3968\n",
      "Epoch [390/400], Loss:0.3869\n",
      "Epoch [400/400], Loss:0.3073\n"
     ]
    }
   ],
   "source": [
    "fit(400,model,loss_fn,opt,train_dl)"
   ]
  },
  {
   "cell_type": "code",
   "execution_count": 123,
   "metadata": {},
   "outputs": [
    {
     "name": "stdout",
     "output_type": "stream",
     "text": [
      "tensor([[ 57.2019,  70.3894],\n",
      "        [ 82.2145, 100.6213],\n",
      "        [118.7195, 132.9453],\n",
      "        [ 21.0892,  37.0065],\n",
      "        [101.9466, 119.1516]], grad_fn=<SliceBackward0>)\n",
      "tensor([[ 56.,  70.],\n",
      "        [ 81., 101.],\n",
      "        [119., 133.],\n",
      "        [ 22.,  37.],\n",
      "        [103., 119.]])\n"
     ]
    }
   ],
   "source": [
    "preds = model(inputs)\n",
    "print(preds[:5])\n",
    "print(target[:5])"
   ]
  },
  {
   "cell_type": "code",
   "execution_count": null,
   "metadata": {},
   "outputs": [],
   "source": []
  }
 ],
 "metadata": {
  "kernelspec": {
   "display_name": "Python 3.9.7 ('base')",
   "language": "python",
   "name": "python3"
  },
  "language_info": {
   "codemirror_mode": {
    "name": "ipython",
    "version": 3
   },
   "file_extension": ".py",
   "mimetype": "text/x-python",
   "name": "python",
   "nbconvert_exporter": "python",
   "pygments_lexer": "ipython3",
   "version": "3.9.7"
  },
  "orig_nbformat": 4,
  "vscode": {
   "interpreter": {
    "hash": "2350637f88f88d2513fb97f91489f031060a0d97d71a62ead2e8894994e85640"
   }
  }
 },
 "nbformat": 4,
 "nbformat_minor": 2
}
