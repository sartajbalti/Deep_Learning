{
 "cells": [
  {
   "cell_type": "markdown",
   "metadata": {},
   "source": [
    "# MNIST Classification Model\n",
    "- Hand written digits\n",
    "- Extremely common \n",
    "- Easy to build up to CNN \n",
    "- Viery big and preprocessed\n"
   ]
  },
  {
   "cell_type": "markdown",
   "metadata": {},
   "source": [
    "## Deep NN for MNIST Classification using TensorFlow"
   ]
  },
  {
   "cell_type": "code",
   "execution_count": 42,
   "metadata": {},
   "outputs": [
    {
     "name": "stdout",
     "output_type": "stream",
     "text": [
      "Requirement already satisfied: tfds-nightly in c:\\users\\sartaj\\anaconda3\\envs\\agmn\\lib\\site-packages (4.6.0.dev202208150045)\n",
      "Requirement already satisfied: tqdm in c:\\users\\sartaj\\anaconda3\\envs\\agmn\\lib\\site-packages (from tfds-nightly) (4.63.0)\n",
      "Requirement already satisfied: protobuf>=3.12.2 in c:\\users\\sartaj\\anaconda3\\envs\\agmn\\lib\\site-packages (from tfds-nightly) (3.19.4)\n",
      "Requirement already satisfied: dill in c:\\users\\sartaj\\anaconda3\\envs\\agmn\\lib\\site-packages (from tfds-nightly) (0.3.5.1)\n",
      "Requirement already satisfied: absl-py in c:\\users\\sartaj\\anaconda3\\envs\\agmn\\lib\\site-packages (from tfds-nightly) (1.2.0)\n",
      "Requirement already satisfied: requests>=2.19.0 in c:\\users\\sartaj\\anaconda3\\envs\\agmn\\lib\\site-packages (from tfds-nightly) (2.27.1)\n",
      "Requirement already satisfied: tensorflow-metadata in c:\\users\\sartaj\\anaconda3\\envs\\agmn\\lib\\site-packages (from tfds-nightly) (1.9.0)\n",
      "Requirement already satisfied: termcolor in c:\\users\\sartaj\\anaconda3\\envs\\agmn\\lib\\site-packages (from tfds-nightly) (1.1.0)\n",
      "Requirement already satisfied: toml in c:\\users\\sartaj\\anaconda3\\envs\\agmn\\lib\\site-packages (from tfds-nightly) (0.10.2)\n",
      "Requirement already satisfied: importlib-resources in c:\\users\\sartaj\\anaconda3\\envs\\agmn\\lib\\site-packages (from tfds-nightly) (5.9.0)\n",
      "Requirement already satisfied: six in c:\\users\\sartaj\\appdata\\roaming\\python\\python37\\site-packages (from tfds-nightly) (1.16.0)\n",
      "Requirement already satisfied: promise in c:\\users\\sartaj\\anaconda3\\envs\\agmn\\lib\\site-packages (from tfds-nightly) (2.3)\n",
      "Requirement already satisfied: numpy in c:\\users\\sartaj\\anaconda3\\envs\\agmn\\lib\\site-packages (from tfds-nightly) (1.21.5)\n",
      "Requirement already satisfied: typing-extensions in c:\\users\\sartaj\\anaconda3\\envs\\agmn\\lib\\site-packages (from tfds-nightly) (4.1.1)\n",
      "Requirement already satisfied: etils[epath] in c:\\users\\sartaj\\anaconda3\\envs\\agmn\\lib\\site-packages (from tfds-nightly) (0.7.1)\n",
      "Requirement already satisfied: charset-normalizer~=2.0.0 in c:\\users\\sartaj\\anaconda3\\envs\\agmn\\lib\\site-packages (from requests>=2.19.0->tfds-nightly) (2.0.4)\n",
      "Requirement already satisfied: urllib3<1.27,>=1.21.1 in c:\\users\\sartaj\\anaconda3\\envs\\agmn\\lib\\site-packages (from requests>=2.19.0->tfds-nightly) (1.26.8)\n",
      "Requirement already satisfied: certifi>=2017.4.17 in c:\\users\\sartaj\\anaconda3\\envs\\agmn\\lib\\site-packages (from requests>=2.19.0->tfds-nightly) (2021.10.8)\n",
      "Requirement already satisfied: idna<4,>=2.5 in c:\\users\\sartaj\\anaconda3\\envs\\agmn\\lib\\site-packages (from requests>=2.19.0->tfds-nightly) (3.3)\n",
      "Requirement already satisfied: zipp in c:\\users\\sartaj\\anaconda3\\envs\\agmn\\lib\\site-packages (from etils[epath]->tfds-nightly) (3.8.1)\n",
      "Requirement already satisfied: googleapis-common-protos<2,>=1.52.0 in c:\\users\\sartaj\\anaconda3\\envs\\agmn\\lib\\site-packages (from tensorflow-metadata->tfds-nightly) (1.56.4)\n",
      "Requirement already satisfied: colorama in c:\\users\\sartaj\\appdata\\roaming\\python\\python37\\site-packages (from tqdm->tfds-nightly) (0.4.4)\n"
     ]
    }
   ],
   "source": [
    "!pip install tfds-nightly"
   ]
  },
  {
   "cell_type": "code",
   "execution_count": 43,
   "metadata": {},
   "outputs": [],
   "source": [
    "# Prepare the data and preprocess it\n",
    "# Import the necessary libraries\n",
    "import numpy as np\n",
    "import tensorflow as tf \n",
    "import tensorflow_datasets as tfds"
   ]
  },
  {
   "cell_type": "code",
   "execution_count": 44,
   "metadata": {},
   "outputs": [],
   "source": [
    "mnist_data,mnist_info = tfds.load(name='mnist',with_info=True,as_supervised=True)\n"
   ]
  },
  {
   "cell_type": "code",
   "execution_count": 45,
   "metadata": {},
   "outputs": [],
   "source": [
    " # Do some preprocessing\n",
    "mtrain,mtest = mnist_data['train'],mnist_data['test']\n",
    "val = 0.1 * mnist_info.splits['train'].num_examples\n",
    "val = tf.cast(val,tf.int64)\n",
    "test_sam = mnist_info.splits['test'].num_examples\n",
    "test_sam = tf.cast(test_sam,tf.int64)\n",
    "def scale(image,lable):\n",
    "    image = tf.cast(image,tf.float32)\n",
    "    image/=255.\n",
    "    return image,lable\n",
    "scale_train_and_validation_data = mtrain.map(scale)\n",
    "test_data = mtest.map(scale)\n",
    "\n"
   ]
  },
  {
   "cell_type": "code",
   "execution_count": 46,
   "metadata": {},
   "outputs": [],
   "source": [
    "# Batching a Data \n",
    "buffer_size = 10000\n",
    "shuffle_t_and_v = scale_train_and_validation_data.shuffle(buffer_size)\n",
    "val_data = shuffle_t_and_v.take(val)\n",
    "train_data = shuffle_t_and_v.skip(val)\n",
    "Batch_size = 100 \n",
    "train_data = train_data.batch(Batch_size)\n",
    "val_data = val_data.batch(val)\n",
    "test_data = test_data.batch(test_sam)\n",
    "\n",
    "val_input, val_target = next(iter(val_data))"
   ]
  },
  {
   "cell_type": "code",
   "execution_count": 47,
   "metadata": {},
   "outputs": [],
   "source": [
    "# Outline the Model \n",
    "input_size = 784\n",
    "output_size = 10 \n",
    "hidden_layer_size = 100 \n",
    "early_stopping = tf.keras.callbacks.EarlyStopping(patience=2)\n",
    "model = tf.keras.Sequential([\n",
    "    tf.keras.layers.Flatten(input_shape=(28,28,1)),\n",
    "    tf.keras.layers.Dense(hidden_layer_size,activation='relu'),\n",
    "    tf.keras.layers.Dense(hidden_layer_size,activation='relu'),\n",
    "\n",
    "    tf.keras.layers.Dense(output_size,activation='softmax')\n",
    "])"
   ]
  },
  {
   "cell_type": "code",
   "execution_count": 48,
   "metadata": {},
   "outputs": [],
   "source": [
    "# Optimization algorithem \n",
    "opti = tf.keras.optimizers.Adam(learning_rate=0.001)\n",
    "model.compile(loss='sparse_categorical_crossentropy',optimizer=opti,metrics=['accuracy'])\n"
   ]
  },
  {
   "cell_type": "code",
   "execution_count": 49,
   "metadata": {},
   "outputs": [
    {
     "name": "stdout",
     "output_type": "stream",
     "text": [
      "Epoch 1/10\n",
      "540/540 - 1s - loss: 0.3396 - accuracy: 0.9034 - val_loss: 0.1798 - val_accuracy: 0.9490 - 1s/epoch - 3ms/step\n",
      "Epoch 2/10\n",
      "540/540 - 1s - loss: 0.1383 - accuracy: 0.9590 - val_loss: 0.1253 - val_accuracy: 0.9660 - 1s/epoch - 3ms/step\n",
      "Epoch 3/10\n",
      "540/540 - 2s - loss: 0.0956 - accuracy: 0.9712 - val_loss: 0.1032 - val_accuracy: 0.9697 - 2s/epoch - 3ms/step\n",
      "Epoch 4/10\n",
      "540/540 - 2s - loss: 0.0730 - accuracy: 0.9778 - val_loss: 0.0837 - val_accuracy: 0.9768 - 2s/epoch - 3ms/step\n",
      "Epoch 5/10\n",
      "540/540 - 2s - loss: 0.0578 - accuracy: 0.9825 - val_loss: 0.0730 - val_accuracy: 0.9798 - 2s/epoch - 3ms/step\n",
      "Epoch 6/10\n",
      "540/540 - 2s - loss: 0.0469 - accuracy: 0.9856 - val_loss: 0.0675 - val_accuracy: 0.9812 - 2s/epoch - 3ms/step\n",
      "Epoch 7/10\n",
      "540/540 - 2s - loss: 0.0378 - accuracy: 0.9882 - val_loss: 0.0585 - val_accuracy: 0.9832 - 2s/epoch - 3ms/step\n",
      "Epoch 8/10\n",
      "540/540 - 2s - loss: 0.0337 - accuracy: 0.9898 - val_loss: 0.0514 - val_accuracy: 0.9853 - 2s/epoch - 3ms/step\n",
      "Epoch 9/10\n",
      "540/540 - 2s - loss: 0.0283 - accuracy: 0.9914 - val_loss: 0.0395 - val_accuracy: 0.9897 - 2s/epoch - 3ms/step\n",
      "Epoch 10/10\n",
      "540/540 - 2s - loss: 0.0256 - accuracy: 0.9919 - val_loss: 0.0351 - val_accuracy: 0.9898 - 2s/epoch - 3ms/step\n"
     ]
    },
    {
     "data": {
      "text/plain": [
       "<keras.callbacks.History at 0x1325846b908>"
      ]
     },
     "execution_count": 49,
     "metadata": {},
     "output_type": "execute_result"
    }
   ],
   "source": [
    "# Train the Model\n",
    "nepochs =10 \n",
    "model.fit(train_data,epochs=nepochs,callbacks=[early_stopping],validation_data= (val_input,val_target),verbose=2)"
   ]
  },
  {
   "cell_type": "code",
   "execution_count": 50,
   "metadata": {},
   "outputs": [
    {
     "name": "stdout",
     "output_type": "stream",
     "text": [
      "1/1 [==============================] - 0s 108ms/step - loss: 0.0857 - accuracy: 0.9756\n"
     ]
    }
   ],
   "source": [
    "#testing the model \n",
    "test_loss,test_accuracy = model.evaluate(test_data)"
   ]
  },
  {
   "cell_type": "code",
   "execution_count": 51,
   "metadata": {},
   "outputs": [
    {
     "name": "stdout",
     "output_type": "stream",
     "text": [
      "Test Loss: 0.09. Test Accuracy: 97.56%\n"
     ]
    }
   ],
   "source": [
    "print(\"Test Loss: {0:.2f}. Test Accuracy: {1:.2f}%\".format(test_loss,test_accuracy*100.))"
   ]
  }
 ],
 "metadata": {
  "kernelspec": {
   "display_name": "Python 3.7.0 ('agmn')",
   "language": "python",
   "name": "python3"
  },
  "language_info": {
   "codemirror_mode": {
    "name": "ipython",
    "version": 3
   },
   "file_extension": ".py",
   "mimetype": "text/x-python",
   "name": "python",
   "nbconvert_exporter": "python",
   "pygments_lexer": "ipython3",
   "version": "3.7.0"
  },
  "orig_nbformat": 4,
  "vscode": {
   "interpreter": {
    "hash": "6ae8e7103e2551143fb447a9b6084dfd31386d5c03ebb907114bf53983988c95"
   }
  }
 },
 "nbformat": 4,
 "nbformat_minor": 2
}
