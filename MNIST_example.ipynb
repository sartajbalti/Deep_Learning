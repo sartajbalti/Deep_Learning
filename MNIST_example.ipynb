{
 "cells": [
  {
   "cell_type": "markdown",
   "metadata": {},
   "source": [
    "# MNIST Classification Model\n",
    "- Hand written digits\n",
    "- Extremely common \n",
    "- Easy to build up to CNN \n",
    "- Viery big and preprocessed\n"
   ]
  },
  {
   "cell_type": "markdown",
   "metadata": {},
   "source": [
    "## Deep NN for MNIST Classification using TensorFlow"
   ]
  },
  {
   "cell_type": "code",
   "execution_count": 4,
   "metadata": {},
   "outputs": [
    {
     "name": "stdout",
     "output_type": "stream",
     "text": [
      "Collecting tfds-nightly\n",
      "  Downloading tfds_nightly-4.6.0.dev202208150045-py3-none-any.whl (4.5 MB)\n",
      "Collecting importlib-resources\n",
      "  Downloading importlib_resources-5.9.0-py3-none-any.whl (33 kB)\n",
      "Requirement already satisfied: protobuf>=3.12.2 in c:\\users\\sartaj\\anaconda3\\envs\\agmn\\lib\\site-packages (from tfds-nightly) (3.19.4)\n",
      "Requirement already satisfied: numpy in c:\\users\\sartaj\\anaconda3\\envs\\agmn\\lib\\site-packages (from tfds-nightly) (1.21.5)\n",
      "Requirement already satisfied: six in c:\\users\\sartaj\\appdata\\roaming\\python\\python37\\site-packages (from tfds-nightly) (1.16.0)\n",
      "Collecting promise\n",
      "  Downloading promise-2.3.tar.gz (19 kB)\n",
      "Requirement already satisfied: termcolor in c:\\users\\sartaj\\anaconda3\\envs\\agmn\\lib\\site-packages (from tfds-nightly) (1.1.0)\n",
      "Requirement already satisfied: tqdm in c:\\users\\sartaj\\anaconda3\\envs\\agmn\\lib\\site-packages (from tfds-nightly) (4.63.0)\n",
      "Requirement already satisfied: typing-extensions in c:\\users\\sartaj\\anaconda3\\envs\\agmn\\lib\\site-packages (from tfds-nightly) (4.1.1)\n",
      "Collecting dill\n",
      "  Downloading dill-0.3.5.1-py2.py3-none-any.whl (95 kB)\n",
      "Requirement already satisfied: absl-py in c:\\users\\sartaj\\anaconda3\\envs\\agmn\\lib\\site-packages (from tfds-nightly) (1.2.0)\n",
      "Collecting toml\n",
      "  Using cached toml-0.10.2-py2.py3-none-any.whl (16 kB)\n",
      "Collecting etils[epath]\n",
      "  Downloading etils-0.7.1-py3-none-any.whl (124 kB)\n",
      "Collecting tensorflow-metadata\n",
      "  Downloading tensorflow_metadata-1.9.0-py3-none-any.whl (51 kB)\n",
      "Requirement already satisfied: requests>=2.19.0 in c:\\users\\sartaj\\anaconda3\\envs\\agmn\\lib\\site-packages (from tfds-nightly) (2.27.1)\n",
      "Requirement already satisfied: charset-normalizer~=2.0.0 in c:\\users\\sartaj\\anaconda3\\envs\\agmn\\lib\\site-packages (from requests>=2.19.0->tfds-nightly) (2.0.4)\n",
      "Requirement already satisfied: idna<4,>=2.5 in c:\\users\\sartaj\\anaconda3\\envs\\agmn\\lib\\site-packages (from requests>=2.19.0->tfds-nightly) (3.3)\n",
      "Requirement already satisfied: certifi>=2017.4.17 in c:\\users\\sartaj\\anaconda3\\envs\\agmn\\lib\\site-packages (from requests>=2.19.0->tfds-nightly) (2021.10.8)\n",
      "Requirement already satisfied: urllib3<1.27,>=1.21.1 in c:\\users\\sartaj\\anaconda3\\envs\\agmn\\lib\\site-packages (from requests>=2.19.0->tfds-nightly) (1.26.8)\n",
      "Requirement already satisfied: zipp in c:\\users\\sartaj\\anaconda3\\envs\\agmn\\lib\\site-packages (from etils[epath]->tfds-nightly) (3.8.1)\n",
      "Collecting googleapis-common-protos<2,>=1.52.0\n",
      "  Downloading googleapis_common_protos-1.56.4-py2.py3-none-any.whl (211 kB)\n",
      "Requirement already satisfied: colorama in c:\\users\\sartaj\\appdata\\roaming\\python\\python37\\site-packages (from tqdm->tfds-nightly) (0.4.4)\n",
      "Building wheels for collected packages: promise\n",
      "  Building wheel for promise (setup.py): started\n",
      "  Building wheel for promise (setup.py): finished with status 'done'\n",
      "  Created wheel for promise: filename=promise-2.3-py3-none-any.whl size=21503 sha256=7e7f57d7e75598f0f1a2cbb48130d2c88f6ca4383e8f3a93770f0d54bc6dc0fa\n",
      "  Stored in directory: c:\\users\\sartaj\\appdata\\local\\pip\\cache\\wheels\\29\\93\\c6\\762e359f8cb6a5b69c72235d798804cae523bbe41c2aa8333d\n",
      "Successfully built promise\n",
      "Installing collected packages: etils, importlib-resources, googleapis-common-protos, toml, tensorflow-metadata, promise, dill, tfds-nightly\n",
      "Successfully installed dill-0.3.5.1 etils-0.7.1 googleapis-common-protos-1.56.4 importlib-resources-5.9.0 promise-2.3 tensorflow-metadata-1.9.0 tfds-nightly-4.6.0.dev202208150045 toml-0.10.2\n"
     ]
    }
   ],
   "source": [
    "!pip install tfds-nightly"
   ]
  },
  {
   "cell_type": "code",
   "execution_count": 5,
   "metadata": {},
   "outputs": [],
   "source": [
    "# Prepare the data and preprocess it\n",
    "# Import the necessary libraries\n",
    "import numpy as np\n",
    "import tensorflow as tf \n",
    "import tensorflow_datasets as tfds"
   ]
  },
  {
   "cell_type": "code",
   "execution_count": 13,
   "metadata": {},
   "outputs": [],
   "source": [
    "mnist_data,mnist_info = tfds.load(name='mnist',with_info=True,as_supervised=True)\n"
   ]
  },
  {
   "cell_type": "code",
   "execution_count": 14,
   "metadata": {},
   "outputs": [],
   "source": [
    " # Do some preprocessing\n",
    "mtrain,mtest = mnist_data['train'],mnist_data['test']\n",
    "val = 0.1 * mnist_info.splits['train'].num_examples\n",
    "val = tf.cast(val,tf.int64)\n",
    "test_sam = mnist_info.splits['test'].num_examples\n",
    "test_sam = tf.cast(test_sam,tf.int64)\n",
    "def scale(image,lable):\n",
    "    image = tf.cast(image,tf.float32)\n",
    "    image/=255.\n",
    "    return image,lable\n",
    "scale_train_and_validation_data = mtrain.map(scale)\n",
    "test_data = mtest.map(scale)\n",
    "\n"
   ]
  },
  {
   "cell_type": "code",
   "execution_count": 18,
   "metadata": {},
   "outputs": [],
   "source": [
    "# Batching a Data \n",
    "buffer_size = 10000\n",
    "shuffle_t_and_v = scale_train_and_validation_data.shuffle(buffer_size)\n",
    "val_data = shuffle_t_and_v.take(val)\n",
    "train_data = shuffle_t_and_v.skip(val)\n",
    "Batch_size = 100 \n",
    "train_data = train_data.batch(Batch_size)\n",
    "val_data = val_data.batch(val)\n",
    "test_data = test_data.batch(test_sam)\n",
    "\n",
    "val_input, val_target = next(iter(val_data))"
   ]
  },
  {
   "cell_type": "code",
   "execution_count": null,
   "metadata": {},
   "outputs": [],
   "source": []
  }
 ],
 "metadata": {
  "kernelspec": {
   "display_name": "Python 3.7.0 ('agmn')",
   "language": "python",
   "name": "python3"
  },
  "language_info": {
   "codemirror_mode": {
    "name": "ipython",
    "version": 3
   },
   "file_extension": ".py",
   "mimetype": "text/x-python",
   "name": "python",
   "nbconvert_exporter": "python",
   "pygments_lexer": "ipython3",
   "version": "3.7.0"
  },
  "orig_nbformat": 4,
  "vscode": {
   "interpreter": {
    "hash": "6ae8e7103e2551143fb447a9b6084dfd31386d5c03ebb907114bf53983988c95"
   }
  }
 },
 "nbformat": 4,
 "nbformat_minor": 2
}
